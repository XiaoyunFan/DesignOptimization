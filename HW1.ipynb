{
 "cells": [
  {
   "cell_type": "code",
   "execution_count": 12,
   "id": "031b91fc",
   "metadata": {},
   "outputs": [
    {
     "data": {
      "text/plain": [
       "     fun: 4.09302328745791\n",
       "     jac: array([-2.04625618, -0.18625832, -2.2325145 , -2.23279339, -1.48843598])\n",
       " message: 'Optimization terminated successfully'\n",
       "    nfev: 43\n",
       "     nit: 7\n",
       "    njev: 7\n",
       "  status: 0\n",
       " success: True\n",
       "       x: array([-0.76734607,  0.25578202,  0.62796073, -0.11639669,  0.25578202])"
      ]
     },
     "execution_count": 12,
     "metadata": {},
     "output_type": "execute_result"
    }
   ],
   "source": [
    "from scipy.optimize import minimize\n",
    "\n",
    "fun = lambda x: (x[0] - x[1])**2 + (x[1] +x[2]-2)**2 + (x[3]-1)**2 + (x[4]-1)**2\n",
    "\n",
    "##constrains\n",
    "cons = ({'type': 'eq', 'fun': lambda x:   x[0] + 3 * x[1] },\n",
    "        {'type': 'eq', 'fun': lambda x:   x[2] + x[3] - 2 * x[4] },\n",
    "        {'type': 'eq', 'fun': lambda x:   x[1] -  x[4] })\n",
    "##bounds\n",
    "bnds = ((-10, 10), (-10, 10),(-10, 10),(-10, 10),(-10, 10))\n",
    "\n",
    "##initial guess(2,2,2,2,2)\n",
    "res = minimize(fun, (2, 2, 2, 2, 2), method='SLSQP', bounds=bnds, constraints=cons)\n",
    "res"
   ]
  },
  {
   "cell_type": "markdown",
   "id": "33b0db60",
   "metadata": {},
   "source": [
    "The function $$fun= (x_1-x_2)^2 + (x_2+x_3-2)^2 + (x_4-1)^2 + (x_5-1)^2$$  \n",
    "\n",
    "reaches to its min value $$min\\quad fun=4.093$$ ,\n",
    "\n",
    "when \n",
    "$$\n",
    " \\begin{bmatrix}\n",
    "   x_1 \\\\\\\\\n",
    "   x_2 \\\\\\\\\n",
    "   x_3 \\\\\\\\\n",
    "   x_4 \\\\\\\\\n",
    "   x_5 \n",
    "  \\end{bmatrix} \\quad=\\quad\\begin{bmatrix}\n",
    "   -0.767 \\\\\\\\\n",
    "   0.256 \\\\\\\\\n",
    "   0.628 \\\\\\\\ \n",
    "   -0.116 \\\\\\\\\n",
    "   0.256\n",
    "  \\end{bmatrix}$$\n"
   ]
  },
  {
   "cell_type": "code",
   "execution_count": null,
   "id": "0c48f05b",
   "metadata": {},
   "outputs": [],
   "source": []
  }
 ],
 "metadata": {
  "kernelspec": {
   "display_name": "Python 3",
   "language": "python",
   "name": "python3"
  },
  "language_info": {
   "codemirror_mode": {
    "name": "ipython",
    "version": 3
   },
   "file_extension": ".py",
   "mimetype": "text/x-python",
   "name": "python",
   "nbconvert_exporter": "python",
   "pygments_lexer": "ipython3",
   "version": "3.8.8"
  }
 },
 "nbformat": 4,
 "nbformat_minor": 5
}
