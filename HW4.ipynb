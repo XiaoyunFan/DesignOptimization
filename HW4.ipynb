{
 "cells": [
  {
   "cell_type": "markdown",
   "id": "c74a4ccb",
   "metadata": {},
   "source": [
    "![image info](./pic/41.GIF)\n",
    "![image info](./pic/42.GIF)![image info](./pic/43.GIF)![image info](./pic/44.GIF)![image info](./pic/45.GIF)![image info](./pic/46.GIF)\n",
    "![image info](./pic/47.GIF)"
   ]
  },
  {
   "cell_type": "code",
   "execution_count": 15,
   "id": "f577bb33",
   "metadata": {},
   "outputs": [
    {
     "name": "stdout",
     "output_type": "stream",
     "text": [
      "[-1.57329303] [1.37727404] [-0.19659334]\n"
     ]
    }
   ],
   "source": [
    "#p5\n",
    "import numpy as np\n",
    "\n",
    "def obj(x1, x2, x3):\n",
    "    return x1 ** 2 + x2 ** 2 + x3 ** 2\n",
    "\n",
    "def dfdx(x1, x2, x3):\n",
    "    dfds = np.vstack((2 * x2, 2 * x3))\n",
    "    dfdd = np.array([2 * x1], dtype=float)\n",
    "    return dfds, dfdd\n",
    "\n",
    "def st(x1, x2, x3):\n",
    "    h1 = x1**2/4 +x2**2/5+x3**2/25- 1\n",
    "    h2 = x1 + x2 - x3\n",
    "    return h1, h2\n",
    "\n",
    "def dhdx(x1, x2, x3):\n",
    "    dhds = np.vstack((np.hstack(((2/5) * x2, (2/25) * x3)), np.array([[1, -1]], dtype=float)))\n",
    "    dhdsinv = np.linalg.inv(dhds)\n",
    "    dhdd = np.vstack(((1 / 2) * x1, 1.))\n",
    "    return dhdsinv, dhdd, dhds\n",
    "\n",
    "def dfdd(x1, x2, x3):\n",
    "    dfds, dfdd = dfdx(x1, x2, x3)\n",
    "    dhdsinv, dhdd, _ = dhdx(x1, x2, x3)\n",
    "    return dfdd - np.matmul(dfds.T, np.matmul(dhdsinv, dhdd))\n",
    "\n",
    "def hequa(x1, x2, x3):\n",
    "    error = 1e-3\n",
    "    h1, h2 = st(x1, x2, x3)\n",
    "    h = np.vstack((h1, h2))\n",
    "    hnorm = np.linalg.norm(h)\n",
    "    while hnorm >= error:\n",
    "        dhinv, _, dh = dhdx(x1, x2, x3)\n",
    "        Lambda = 1\n",
    "        ds = np.matmul(dhinv, h)\n",
    "        x2 = x2 - ds[0]\n",
    "        x3 = x3 - ds[1]\n",
    "        h1, h2 = st(x1, x2, x3)\n",
    "        h = np.vstack((h1, h2))\n",
    "        hnorm = np.linalg.norm(h)\n",
    "    return x1, x2, x3, hnorm\n",
    "\n",
    "def line_search(x1, x2, x3):\n",
    "    a = 1. \n",
    "    df = dfdd(x1, x2, x3)\n",
    "    phi = lambda a, x1, x2, x3, df: obj(x1, x2, x3) - a * 0.3 * np.matmul(df, df.T) \n",
    "    def f_a(x1, x2, x3, a):\n",
    "        df = dfdd(x1, x2, x3)\n",
    "        dhdsinv, dhdd, _ = dhdx(x1, x2, x3)\n",
    "\n",
    "        x1 = x1 - a * df.flatten()\n",
    "        ds = np.matmul(np.matmul(dhdsinv, dhdd), df.T).flatten()\n",
    "        x2 = x2 + a * ds[0]\n",
    "        x3 = x3 + a * ds[1]\n",
    "        return obj(x1, x2, x3)\n",
    "\n",
    "    while phi(a, x1, x2, x3, df) < f_a(x1, x2, x3, a):\n",
    "        a = 0.5 * a\n",
    "        df = dfdd(x1, x2, x3)\n",
    "    return a\n",
    "\n",
    "eps = 1e-3  \n",
    "x1 = np.array([1.0], dtype=float)\n",
    "x2 = np.array([2.0], dtype=float)\n",
    "x3 = np.array([3.0], dtype=float)\n",
    "iter = 0 \n",
    "\n",
    "x1, x2, x3, _ =hequa(x1, x2, x3)\n",
    "\n",
    "dfddnorm = np.linalg.norm(dfdd(x1, x2, x3))\n",
    "\n",
    "while dfddnorm >= eps:  \n",
    "    a = line_search(x1, x2, x3)\n",
    "    x1 = x1 - a * dfdd(x1, x2, x3).flatten()\n",
    "    dhdsinv, dhdd, dh = dhdx(x1, x2, x3)\n",
    "    ds = a * np.matmul(np.matmul(dhdsinv, dhdd), dfdd(x1, x2, x3).T).flatten()\n",
    "    x2 = x2 + ds[0]\n",
    "    x3 = x3 + ds[1]\n",
    "    x1, x2, x3, _ = hequa(x1, x2, x3)\n",
    "    dfddnorm = np.linalg.norm(dfdd(x1, x2, x3))\n",
    "\n",
    "print(x1, x2, x3)"
   ]
  },
  {
   "cell_type": "markdown",
   "id": "d22bdc17",
   "metadata": {},
   "source": [
    "The answer is [-1.57329303] [1.37727404] [-0.19659334] for x"
   ]
  }
 ],
 "metadata": {
  "kernelspec": {
   "display_name": "Python 3",
   "language": "python",
   "name": "python3"
  },
  "language_info": {
   "codemirror_mode": {
    "name": "ipython",
    "version": 3
   },
   "file_extension": ".py",
   "mimetype": "text/x-python",
   "name": "python",
   "nbconvert_exporter": "python",
   "pygments_lexer": "ipython3",
   "version": "3.8.8"
  }
 },
 "nbformat": 4,
 "nbformat_minor": 5
}
